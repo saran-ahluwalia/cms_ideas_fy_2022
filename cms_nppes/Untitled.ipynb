{
 "cells": [
  {
   "cell_type": "code",
   "execution_count": 1,
   "id": "08d01377",
   "metadata": {},
   "outputs": [],
   "source": [
    "import pandas as pd"
   ]
  },
  {
   "cell_type": "code",
   "execution_count": 2,
   "id": "69143f25",
   "metadata": {},
   "outputs": [],
   "source": [
    "cms_nppes_df = pd.read_json(\"https://data.cms.gov/data-api/v1/dataset/017ceedb-fda2-4c69-b7ec-ced232268135/data\")"
   ]
  },
  {
   "cell_type": "code",
   "execution_count": 3,
   "id": "7a39a354",
   "metadata": {},
   "outputs": [
    {
     "data": {
      "text/html": [
       "<div>\n",
       "<style scoped>\n",
       "    .dataframe tbody tr th:only-of-type {\n",
       "        vertical-align: middle;\n",
       "    }\n",
       "\n",
       "    .dataframe tbody tr th {\n",
       "        vertical-align: top;\n",
       "    }\n",
       "\n",
       "    .dataframe thead th {\n",
       "        text-align: right;\n",
       "    }\n",
       "</style>\n",
       "<table border=\"1\" class=\"dataframe\">\n",
       "  <thead>\n",
       "    <tr style=\"text-align: right;\">\n",
       "      <th></th>\n",
       "      <th>NPI</th>\n",
       "      <th>Provider Name</th>\n",
       "    </tr>\n",
       "  </thead>\n",
       "  <tbody>\n",
       "    <tr>\n",
       "      <th>0</th>\n",
       "      <td>1699152124</td>\n",
       "      <td>Perry,Jeanne</td>\n",
       "    </tr>\n",
       "    <tr>\n",
       "      <th>1</th>\n",
       "      <td>1225469976</td>\n",
       "      <td>Ogunmuyiwa,Muminot</td>\n",
       "    </tr>\n",
       "    <tr>\n",
       "      <th>2</th>\n",
       "      <td>1871901579</td>\n",
       "      <td>Miesbauer,Rebekah</td>\n",
       "    </tr>\n",
       "    <tr>\n",
       "      <th>3</th>\n",
       "      <td>1932615317</td>\n",
       "      <td>Pathadan,Nileena</td>\n",
       "    </tr>\n",
       "    <tr>\n",
       "      <th>4</th>\n",
       "      <td>1932623170</td>\n",
       "      <td>Philippe,Fabiola</td>\n",
       "    </tr>\n",
       "  </tbody>\n",
       "</table>\n",
       "</div>"
      ],
      "text/plain": [
       "          NPI      Provider Name \n",
       "0  1699152124        Perry,Jeanne\n",
       "1  1225469976  Ogunmuyiwa,Muminot\n",
       "2  1871901579   Miesbauer,Rebekah\n",
       "3  1932615317    Pathadan,Nileena\n",
       "4  1932623170    Philippe,Fabiola"
      ]
     },
     "execution_count": 3,
     "metadata": {},
     "output_type": "execute_result"
    }
   ],
   "source": [
    "cms_nppes_df.head()"
   ]
  },
  {
   "cell_type": "code",
   "execution_count": 4,
   "id": "4ab124db",
   "metadata": {},
   "outputs": [],
   "source": [
    "# weekly update (January 31, 2022)\n",
    "all_order_and_referring_physicians = pd.read_json(\"https://data.cms.gov/data-api/v1/dataset/0824b6d0-14ad-47a0-94e2-f317a3658317/data\")"
   ]
  },
  {
   "cell_type": "code",
   "execution_count": 15,
   "id": "f6a3f917",
   "metadata": {},
   "outputs": [
    {
     "data": {
      "text/html": [
       "<div>\n",
       "<style scoped>\n",
       "    .dataframe tbody tr th:only-of-type {\n",
       "        vertical-align: middle;\n",
       "    }\n",
       "\n",
       "    .dataframe tbody tr th {\n",
       "        vertical-align: top;\n",
       "    }\n",
       "\n",
       "    .dataframe thead th {\n",
       "        text-align: right;\n",
       "    }\n",
       "</style>\n",
       "<table border=\"1\" class=\"dataframe\">\n",
       "  <thead>\n",
       "    <tr style=\"text-align: right;\">\n",
       "      <th></th>\n",
       "      <th>NPI</th>\n",
       "      <th>LAST_NAME</th>\n",
       "      <th>FIRST_NAME</th>\n",
       "      <th>PARTB</th>\n",
       "      <th>DME</th>\n",
       "      <th>HHA</th>\n",
       "      <th>PMD</th>\n",
       "    </tr>\n",
       "  </thead>\n",
       "  <tbody>\n",
       "    <tr>\n",
       "      <th>0</th>\n",
       "      <td>1558467555</td>\n",
       "      <td>.MCINDOE</td>\n",
       "      <td>THOMAS</td>\n",
       "      <td>Y</td>\n",
       "      <td>Y</td>\n",
       "      <td>Y</td>\n",
       "      <td>Y</td>\n",
       "    </tr>\n",
       "    <tr>\n",
       "      <th>1</th>\n",
       "      <td>1417051921</td>\n",
       "      <td>A BELLE</td>\n",
       "      <td>N</td>\n",
       "      <td>Y</td>\n",
       "      <td>Y</td>\n",
       "      <td>Y</td>\n",
       "      <td>Y</td>\n",
       "    </tr>\n",
       "    <tr>\n",
       "      <th>2</th>\n",
       "      <td>1760465553</td>\n",
       "      <td>A SATTAR</td>\n",
       "      <td>MUHAMMAD</td>\n",
       "      <td>Y</td>\n",
       "      <td>Y</td>\n",
       "      <td>Y</td>\n",
       "      <td>Y</td>\n",
       "    </tr>\n",
       "    <tr>\n",
       "      <th>3</th>\n",
       "      <td>1467482471</td>\n",
       "      <td>AAB</td>\n",
       "      <td>BARRY</td>\n",
       "      <td>Y</td>\n",
       "      <td>Y</td>\n",
       "      <td>Y</td>\n",
       "      <td>N</td>\n",
       "    </tr>\n",
       "    <tr>\n",
       "      <th>4</th>\n",
       "      <td>1164905659</td>\n",
       "      <td>AABEL</td>\n",
       "      <td>SAMANTHA</td>\n",
       "      <td>Y</td>\n",
       "      <td>Y</td>\n",
       "      <td>N</td>\n",
       "      <td>N</td>\n",
       "    </tr>\n",
       "  </tbody>\n",
       "</table>\n",
       "</div>"
      ],
      "text/plain": [
       "          NPI LAST_NAME FIRST_NAME PARTB DME HHA PMD\n",
       "0  1558467555  .MCINDOE     THOMAS     Y   Y   Y   Y\n",
       "1  1417051921   A BELLE          N     Y   Y   Y   Y\n",
       "2  1760465553  A SATTAR   MUHAMMAD     Y   Y   Y   Y\n",
       "3  1467482471       AAB      BARRY     Y   Y   Y   N\n",
       "4  1164905659     AABEL   SAMANTHA     Y   Y   N   N"
      ]
     },
     "execution_count": 15,
     "metadata": {},
     "output_type": "execute_result"
    }
   ],
   "source": [
    "all_order_and_referring_physicians.head()"
   ]
  },
  {
   "cell_type": "code",
   "execution_count": 11,
   "id": "476b77c3",
   "metadata": {},
   "outputs": [],
   "source": [
    "all_pecos_set = set(all_order_and_referring_physicians[\"NPI\"])"
   ]
  },
  {
   "cell_type": "code",
   "execution_count": 10,
   "id": "5023e2b6",
   "metadata": {},
   "outputs": [],
   "source": [
    "nppes_set = set(cms_nppes_df[\"NPI\"].values)"
   ]
  },
  {
   "cell_type": "code",
   "execution_count": 12,
   "id": "67600f0c",
   "metadata": {},
   "outputs": [
    {
     "data": {
      "text/plain": [
       "{1164623682}"
      ]
     },
     "execution_count": 12,
     "metadata": {},
     "output_type": "execute_result"
    }
   ],
   "source": [
    "all_pecos_set.intersection(nppes_set)"
   ]
  },
  {
   "cell_type": "code",
   "execution_count": 14,
   "id": "c522a669",
   "metadata": {},
   "outputs": [
    {
     "data": {
      "text/html": [
       "<div>\n",
       "<style scoped>\n",
       "    .dataframe tbody tr th:only-of-type {\n",
       "        vertical-align: middle;\n",
       "    }\n",
       "\n",
       "    .dataframe tbody tr th {\n",
       "        vertical-align: top;\n",
       "    }\n",
       "\n",
       "    .dataframe thead th {\n",
       "        text-align: right;\n",
       "    }\n",
       "</style>\n",
       "<table border=\"1\" class=\"dataframe\">\n",
       "  <thead>\n",
       "    <tr style=\"text-align: right;\">\n",
       "      <th></th>\n",
       "      <th>NPI</th>\n",
       "      <th>LAST_NAME</th>\n",
       "      <th>FIRST_NAME</th>\n",
       "      <th>PARTB</th>\n",
       "      <th>DME</th>\n",
       "      <th>HHA</th>\n",
       "      <th>PMD</th>\n",
       "    </tr>\n",
       "  </thead>\n",
       "  <tbody>\n",
       "    <tr>\n",
       "      <th>220</th>\n",
       "      <td>1164623682</td>\n",
       "      <td>AARONS</td>\n",
       "      <td>ELIZABETH</td>\n",
       "      <td>Y</td>\n",
       "      <td>Y</td>\n",
       "      <td>Y</td>\n",
       "      <td>Y</td>\n",
       "    </tr>\n",
       "  </tbody>\n",
       "</table>\n",
       "</div>"
      ],
      "text/plain": [
       "            NPI LAST_NAME FIRST_NAME PARTB DME HHA PMD\n",
       "220  1164623682    AARONS  ELIZABETH     Y   Y   Y   Y"
      ]
     },
     "execution_count": 14,
     "metadata": {},
     "output_type": "execute_result"
    }
   ],
   "source": [
    "all_order_and_referring_physicians[all_order_and_referring_physicians[\"NPI\"] == 1164623682]"
   ]
  },
  {
   "cell_type": "code",
   "execution_count": null,
   "id": "52e03b38",
   "metadata": {},
   "outputs": [],
   "source": []
  }
 ],
 "metadata": {
  "kernelspec": {
   "display_name": "Python 3",
   "language": "python",
   "name": "python3"
  },
  "language_info": {
   "codemirror_mode": {
    "name": "ipython",
    "version": 3
   },
   "file_extension": ".py",
   "mimetype": "text/x-python",
   "name": "python",
   "nbconvert_exporter": "python",
   "pygments_lexer": "ipython3",
   "version": "3.6.2"
  }
 },
 "nbformat": 4,
 "nbformat_minor": 5
}
